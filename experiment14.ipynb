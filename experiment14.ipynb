{
  "nbformat": 4,
  "nbformat_minor": 0,
  "metadata": {
    "colab": {
      "name": "Untitled4.ipynb",
      "provenance": []
    },
    "kernelspec": {
      "name": "python3",
      "display_name": "Python 3"
    },
    "language_info": {
      "name": "python"
    }
  },
  "cells": [
    {
      "cell_type": "code",
      "execution_count": 2,
      "metadata": {
        "colab": {
          "base_uri": "https://localhost:8080/"
        },
        "id": "7BEMyu8juIit",
        "outputId": "21806490-6a54-4dd1-bd81-3d7550c09c5f"
      },
      "outputs": [
        {
          "output_type": "stream",
          "name": "stdout",
          "text": [
            "1 https://www.rottentomatoes.com/m/the_battle_of_algiers \n",
            " Movie:The Battle of Algiers (La Battaglia di Algeri) (1967)\n",
            "Movie info:Paratrooper commander Colonel Mathieu (Jean Martin), a former French Resistance fighter during World War II, is sent to 1950s Algeria to reinforce efforts to squelch the uprisings of the Algerian War. There he faces Ali la Pointe (Brahim Haggiag), a former petty criminal who, as the leader of the Algerian Front de Liberation Nationale, directs terror strategies against the colonial French government occupation. As each side resorts to ever-increasing brutality, no violent act is too unthinkable.\n"
          ]
        }
      ],
      "source": [
        "\n",
        "import requests\n",
        "import lxml\n",
        "from bs4 import BeautifulSoup\n",
        "from xlwt import *\n",
        "workbook = Workbook(encoding = 'utf-8')\n",
        "table = workbook.add_sheet('data')\n",
        "table.write(0, 0, 'Number')\n",
        "table.write(0, 1, 'movie_url')\n",
        "table.write(0, 2, 'movie_name')\n",
        "table.write(0, 3, 'movie_introduction')\n",
        "line = 1\n",
        "url = \"https://www.rottentomatoes.com/top/bestofrt/\"\n",
        "headers = {\n",
        "  'User-Agent': 'Mozilla/5.0 (Windows NT 6.1; WOW64) AppleWebKit/537.36 (KHTML, like Gecko) Chrome/63.0.3239.132 Safari/537.36 QIHU 360SE'\n",
        "}\n",
        "f = requests.get(url, headers = headers)\n",
        "movies_lst = []\n",
        "soup = BeautifulSoup(f.content, 'lxml')\n",
        "movies = soup.find('table', {\n",
        "    'class': 'table'\n",
        "  }).find_all('a')\n",
        "num = 0\n",
        "for anchor in movies:\n",
        "  urls = 'https://www.rottentomatoes.com' + anchor['href']\n",
        "movies_lst.append(urls)\n",
        "num += 1\n",
        "movie_url = urls\n",
        "movie_f = requests.get(movie_url, headers = headers)\n",
        "movie_soup = BeautifulSoup(movie_f.content, 'lxml')\n",
        "movie_content = movie_soup.find('div', {\n",
        "  'class': 'movie_synopsis clamp clamp-6 js-clamp'\n",
        "})\n",
        "print(num, urls, '\\n', 'Movie:' + anchor.string.strip())\n",
        "print('Movie info:' + movie_content.string.strip())\n",
        "table.write(line, 0, num)\n",
        "table.write(line, 1, urls)\n",
        "table.write(line, 2, anchor.string.strip())\n",
        "table.write(line, 3, movie_content.string.strip())\n",
        "line += 1\n",
        "workbook.save('movies_top100.xls')"
      ]
    }
  ]
}