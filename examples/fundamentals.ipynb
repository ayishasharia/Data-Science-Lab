{
 "cells": [
  {
   "cell_type": "code",
   "execution_count": 4,
   "metadata": {},
   "outputs": [
    {
     "name": "stdout",
     "output_type": "stream",
     "text": [
      "ADDITION 15\n",
      "SUBTRACTION 5\n",
      "MULTIPLICATION 50\n",
      "DIVISION 2.0\n"
     ]
    }
   ],
   "source": [
    "a = 10\n",
    "b = 5\n",
    "c = a+b\n",
    "print(\"ADDITION\",c)\n",
    "d = a-b\n",
    "print(\"SUBTRACTION\",d)\n",
    "e = a*b\n",
    "print(\"MULTIPLICATION\",e)\n",
    "f = a/b\n",
    "print(\"DIVISION\",f)"
   ]
  },
  {
   "cell_type": "code",
   "execution_count": 5,
   "metadata": {},
   "outputs": [
    {
     "name": "stdout",
     "output_type": "stream",
     "text": [
      "Enter a number :2\n",
      "Enter another number:5\n",
      "second number is greater than first \n"
     ]
    }
   ],
   "source": [
    "#greatest of two numbers\n",
    "a=input(\"Enter a number :\")\n",
    "b=input(\"Enter another number:\")\n",
    "if a>b:\n",
    "    print(\"first number is greater than second\")\n",
    "else:\n",
    "    print(\"second number is greater than first \")\n",
    "    "
   ]
  },
  {
   "cell_type": "code",
   "execution_count": 7,
   "metadata": {},
   "outputs": [
    {
     "name": "stdout",
     "output_type": "stream",
     "text": [
      "Enter first number :3\n",
      "Enter second number:5\n",
      "Enter second number:2\n",
      "second number is greater  \n"
     ]
    }
   ],
   "source": [
    "#greatest of three numbers\n",
    "a=input(\"Enter first number :\")\n",
    "b=input(\"Enter second number:\")\n",
    "c=input(\"Enter second number:\")\n",
    "if a>b:\n",
    "    print(\"first number is greater \")\n",
    "elif b>c:\n",
    "    print(\"second number is greater  \")\n",
    "else:\n",
    "    print(\"third number is greater\")\n",
    "    \n"
   ]
  },
  {
   "cell_type": "code",
   "execution_count": 36,
   "metadata": {},
   "outputs": [
    {
     "name": "stdout",
     "output_type": "stream",
     "text": [
      "[2, 4, 6, 8]\n",
      "[1, 3, 5, 7]\n",
      "list a after removal [2, 6, 8]\n",
      "list after appending [2, 6, 8, [1, 3, 5, 7]]\n",
      "list upto 6 [6, 7, 8, 9]\n",
      "sorted list [1, 2, 3, 6, 9]\n",
      "list after insertion [1, 2, 3, 4, 6, 9]\n"
     ]
    }
   ],
   "source": [
    "#list creation\n",
    "a=[2,4,6,8]\n",
    "b=[1,3,5,7]\n",
    "print(a)\n",
    "print(b)\n",
    "#remove\n",
    "a.remove(4)\n",
    "print(\"list a after removal\",a)\n",
    "#append\n",
    "a.append(b)\n",
    "print(\"list after appending\",a)\n",
    "#slice\n",
    "c=[1,2,3,4,5,6,7,8,9]\n",
    "print(\"list upto 6\",c[5:9])\n",
    "#sort\n",
    "d=[1,9,3,6,2]\n",
    "d.sort()\n",
    "print(\"sorted list\",d)\n",
    "#insert\n",
    "d.insert(3,4)\n",
    "print(\"list after insertion\",d)\n",
    "\n",
    "\n"
   ]
  },
  {
   "cell_type": "code",
   "execution_count": 40,
   "metadata": {},
   "outputs": [
    {
     "name": "stdout",
     "output_type": "stream",
     "text": [
      "sum= 18\n"
     ]
    }
   ],
   "source": [
    "#funtion\n",
    "def sum(a,b):\n",
    "    c=a+b\n",
    "    return c\n",
    "\n",
    "print(\"sum=\",sum(10,8))\n",
    "\n"
   ]
  },
  {
   "cell_type": "code",
   "execution_count": 46,
   "metadata": {},
   "outputs": [
    {
     "name": "stdout",
     "output_type": "stream",
     "text": [
      "0\n",
      "1\n",
      "3\n",
      "4\n",
      "6\n",
      "7\n",
      "8\n",
      "9\n",
      "10\n"
     ]
    }
   ],
   "source": [
    "#range\n",
    "for i in range(11):\n",
    "    if(i==2 or i==5):\n",
    "        continue\n",
    "    print(i)\n"
   ]
  },
  {
   "cell_type": "code",
   "execution_count": 47,
   "metadata": {},
   "outputs": [
    {
     "name": "stdout",
     "output_type": "stream",
     "text": [
      "{'name': 'Riya', 'age': '30'}\n"
     ]
    }
   ],
   "source": [
    "#dictionary\n",
    "a={'name':'Riya','age':'30'}\n",
    "print(a)"
   ]
  },
  {
   "cell_type": "code",
   "execution_count": null,
   "metadata": {
    "collapsed": true
   },
   "outputs": [],
   "source": []
  }
 ],
 "metadata": {
  "kernelspec": {
   "display_name": "Python 3",
   "language": "python",
   "name": "python3"
  },
  "language_info": {
   "codemirror_mode": {
    "name": "ipython",
    "version": 3
   },
   "file_extension": ".py",
   "mimetype": "text/x-python",
   "name": "python",
   "nbconvert_exporter": "python",
   "pygments_lexer": "ipython3",
   "version": "3.6.3"
  }
 },
 "nbformat": 4,
 "nbformat_minor": 2
}
